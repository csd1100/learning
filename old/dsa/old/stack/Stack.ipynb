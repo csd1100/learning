{
 "cells": [
  {
   "cell_type": "markdown",
   "metadata": {},
   "source": [
    "# STACKS\n"
   ]
  },
  {
   "cell_type": "markdown",
   "metadata": {},
   "source": [
    "## LAST IN FIRST OUT"
   ]
  },
  {
   "cell_type": "markdown",
   "metadata": {},
   "source": [
    "### General Info: \n",
    "Stack is LIFO type of Data Structure. It has one entry point i.e. TOP of the stack.When element is added/removed it is added/removed from TOP. Size of Stack is fixed. Stack has certain methods that are implemented with it.\n",
    "### Methods: \n",
    "#### 1.push(value):\n",
    "   When element is needed to be added push method is used. 'value' parameter is added on top of stacked or pushed on stack.\n",
    "#### 2.pop():\n",
    "   When pop() is invoked the value at TOP of the stack is removed."
   ]
  },
  {
   "cell_type": "markdown",
   "metadata": {},
   "source": [
    "![title](stack.png)"
   ]
  },
  {
   "cell_type": "code",
   "execution_count": 1,
   "metadata": {},
   "outputs": [
    {
     "name": "stdout",
     "output_type": "stream",
     "text": [
      "Stack currently contains:\n",
      "1\n",
      "2\n",
      "3\n"
     ]
    }
   ],
   "source": [
    "MyStack = []\n",
    "StackSize = 3\n",
    "def DisplayStack():\n",
    " print(\"Stack currently contains:\")\n",
    " for Item in MyStack:\n",
    "  print(Item)\n",
    "def Push(Value):\n",
    " if len(MyStack) < StackSize:\n",
    "  MyStack.append(Value)\n",
    " else:\n",
    "  print(\"Stack is full!\")\n",
    "def Pop():\n",
    " if len(MyStack) > 0:\n",
    "  MyStack.pop()\n",
    " else:\n",
    "  print(\"Stack is empty.\")\n",
    "Push(1)\n",
    "Push(2)\n",
    "Push(3)\n",
    "DisplayStack()"
   ]
  },
  {
   "cell_type": "code",
   "execution_count": 2,
   "metadata": {},
   "outputs": [
    {
     "name": "stdout",
     "output_type": "stream",
     "text": [
      "Stack is full!\n",
      "Stack currently contains:\n",
      "1\n",
      "2\n",
      "3\n"
     ]
    }
   ],
   "source": [
    "Push(4)\n",
    "DisplayStack()"
   ]
  },
  {
   "cell_type": "code",
   "execution_count": 3,
   "metadata": {},
   "outputs": [
    {
     "name": "stdout",
     "output_type": "stream",
     "text": [
      "Stack currently contains:\n",
      "1\n",
      "2\n"
     ]
    }
   ],
   "source": [
    "Pop()\n",
    "DisplayStack()"
   ]
  },
  {
   "cell_type": "code",
   "execution_count": 4,
   "metadata": {},
   "outputs": [
    {
     "name": "stdout",
     "output_type": "stream",
     "text": [
      "Stack is empty.\n",
      "Stack currently contains:\n"
     ]
    }
   ],
   "source": [
    "Pop()\n",
    "Pop()\n",
    "Pop()\n",
    "DisplayStack()"
   ]
  },
  {
   "cell_type": "code",
   "execution_count": null,
   "metadata": {},
   "outputs": [],
   "source": []
  }
 ],
 "metadata": {
  "kernelspec": {
   "display_name": "Python 3",
   "language": "python",
   "name": "python3"
  },
  "language_info": {
   "codemirror_mode": {
    "name": "ipython",
    "version": 3
   },
   "file_extension": ".py",
   "mimetype": "text/x-python",
   "name": "python",
   "nbconvert_exporter": "python",
   "pygments_lexer": "ipython3",
   "version": "3.7.6"
  }
 },
 "nbformat": 4,
 "nbformat_minor": 4
}
