{
 "cells": [
  {
   "cell_type": "markdown",
   "metadata": {},
   "source": [
    "   1. Odd - Even\n",
    "   2. Prime\n",
    "   3. HCF\n",
    "   4. GCD\n",
    "   5. LCM\n",
    "   6. Fibonacci\n",
    "   7. Factorial\n",
    "   8. Series\n",
    "   9. Calendar"
   ]
  },
  {
   "cell_type": "code",
   "execution_count": 2,
   "metadata": {},
   "outputs": [
    {
     "name": "stdout",
     "output_type": "stream",
     "text": [
      "15\n",
      "15 is odd\n"
     ]
    }
   ],
   "source": [
    "# Odd Even\n",
    "num = int(input())\n",
    "if num % 2 == 0:\n",
    "    print(f\"{num} is Even\")\n",
    "else:\n",
    "    print(f\"{num} is odd\")"
   ]
  },
  {
   "cell_type": "code",
   "execution_count": 5,
   "metadata": {},
   "outputs": [
    {
     "name": "stdout",
     "output_type": "stream",
     "text": [
      "15\n",
      "15 is not Prime\n"
     ]
    }
   ],
   "source": [
    "#Prime\n",
    "num = int(input())\n",
    "if num == 1:\n",
    "    print(\"1 is neither even or odd.\")\n",
    "else:\n",
    "    for i in range(2,num):\n",
    "        if ( num % i == 0 ):\n",
    "            print(f\"{num} is not Prime\")\n",
    "            break\n",
    "    else:\n",
    "        print(f\"{num} is Prime\")"
   ]
  },
  {
   "cell_type": "code",
   "execution_count": 9,
   "metadata": {},
   "outputs": [
    {
     "name": "stdout",
     "output_type": "stream",
     "text": [
      "9\n",
      "9 is not Prime\n"
     ]
    }
   ],
   "source": [
    "#Prime using square root to reduce time\n",
    "import math\n",
    "num = int(input())\n",
    "if num == 1:\n",
    "    print(\"1 is neither even or odd.\")\n",
    "else:\n",
    "    sq_rt = 1 + math.floor(math.sqrt(num))\n",
    "    for i in range(2,sq_rt):\n",
    "        if ( num % i == 0 ):\n",
    "            print(f\"{num} is not Prime\")\n",
    "            break\n",
    "    else:\n",
    "        print(f\"{num} is Prime\")"
   ]
  },
  {
   "cell_type": "code",
   "execution_count": 23,
   "metadata": {},
   "outputs": [
    {
     "name": "stdout",
     "output_type": "stream",
     "text": [
      "15\n",
      "15 is not Prime\n"
     ]
    }
   ],
   "source": [
    "#Prime using square root and removing even nos to reduce time\n",
    "import math\n",
    "num = int(input())\n",
    "if num == 1:\n",
    "    print(\"1 is neither even or odd.\")\n",
    "elif num == 2:\n",
    "    print(\"2 is Prime\")\n",
    "elif num > 2 and num % 2 != 0:\n",
    "    sq_rt = 1 + math.floor(math.sqrt(num))\n",
    "    for i in range(2,sq_rt):\n",
    "        if ( num % i == 0 ):\n",
    "            print(f\"{num} is not Prime\")\n",
    "            break\n",
    "    else:\n",
    "        print(f\"{num} is Prime\")"
   ]
  },
  {
   "cell_type": "code",
   "execution_count": 28,
   "metadata": {},
   "outputs": [
    {
     "name": "stdout",
     "output_type": "stream",
     "text": [
      "1\n",
      "100\n",
      "25\n"
     ]
    }
   ],
   "source": [
    "#Prime using square root and removing even nos to reduce time between 2 numbers\n",
    "import math\n",
    "def is_prime(num):\n",
    "    if num == 1:\n",
    "        return False\n",
    "    elif num == 2:\n",
    "        return True\n",
    "    elif num > 2 and num % 2 != 0:\n",
    "        sq_rt = 1 + math.floor(math.sqrt(num))\n",
    "        for i in range(2,sq_rt):\n",
    "            if ( num % i == 0 ):\n",
    "                False\n",
    "                break\n",
    "        else:\n",
    "            return True\n",
    "    else:\n",
    "        return False\n",
    "    return False\n",
    "        \n",
    "start = int(input())\n",
    "end = int(input())\n",
    "count = 0\n",
    "for i in range(start,end):\n",
    "    if is_prime(i):\n",
    "        count+=1\n",
    "print(count)"
   ]
  },
  {
   "cell_type": "code",
   "execution_count": null,
   "metadata": {},
   "outputs": [],
   "source": [
    "#HCF\n"
   ]
  }
 ],
 "metadata": {
  "kernelspec": {
   "display_name": "Python 3",
   "language": "python",
   "name": "python3"
  },
  "language_info": {
   "codemirror_mode": {
    "name": "ipython",
    "version": 3
   },
   "file_extension": ".py",
   "mimetype": "text/x-python",
   "name": "python",
   "nbconvert_exporter": "python",
   "pygments_lexer": "ipython3",
   "version": "3.7.7"
  }
 },
 "nbformat": 4,
 "nbformat_minor": 4
}
