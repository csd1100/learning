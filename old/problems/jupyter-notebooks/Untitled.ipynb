{
 "cells": [
  {
   "cell_type": "code",
   "execution_count": 13,
   "metadata": {},
   "outputs": [
    {
     "name": "stdout",
     "output_type": "stream",
     "text": [
      "12345\n",
      "54321\n"
     ]
    }
   ],
   "source": [
    "num = input()\n",
    "count_of_digits = len(num)\n",
    "num = int(num)\n",
    "digits = []\n",
    "for i in reversed(range(0,count_of_digits)):\n",
    "    q = num // 10 ** i\n",
    "    digits.append(q)\n",
    "    num = num % 10 ** i\n",
    "op = 0\n",
    "for digit in reversed(digits):\n",
    "    n = digit * (10 ** (count_of_digits-1))\n",
    "    op += n\n",
    "    count_of_digits -= 1\n",
    "print(op)"
   ]
  },
  {
   "cell_type": "code",
   "execution_count": 46,
   "metadata": {},
   "outputs": [
    {
     "name": "stdout",
     "output_type": "stream",
     "text": [
      "1        1\n",
      "12      21\n",
      "123    321\n",
      "1234  4321\n",
      "1234554321\n"
     ]
    }
   ],
   "source": [
    "count = 0\n",
    "for i in range(1,6):\n",
    "    for j in range (1,i+1):\n",
    "        print(j,end=\"\")\n",
    "    for j in range(2*5-2*i):\n",
    "        print(\" \",end=\"\")  \n",
    "    for j in reversed(range (1,i+1)):\n",
    "        print(j,end=\"\")\n",
    "    print()\n"
   ]
  },
  {
   "cell_type": "code",
   "execution_count": 20,
   "metadata": {},
   "outputs": [
    {
     "name": "stdout",
     "output_type": "stream",
     "text": [
      "1\n",
      "5\n",
      "5 11 36 6 2 1\n"
     ]
    }
   ],
   "source": [
    "def sorcerer(n):\n",
    "    n = int(n)\n",
    "    if n < 2:\n",
    "        print(1)\n",
    "        return\n",
    "    else:\n",
    "        print(n,end=\" \")\n",
    "        if n %2 == 0:\n",
    "          sorcerer((n**0.5))\n",
    "        else:\n",
    "          sorcerer((n**(1.5)))\n",
    "\n",
    "def main():\n",
    "  for _ in range(int(input())):\n",
    "    num = int(input())\n",
    "    sorcerer(num)\n",
    "\n",
    "main()"
   ]
  },
  {
   "cell_type": "code",
   "execution_count": 3,
   "metadata": {},
   "outputs": [
    {
     "name": "stdout",
     "output_type": "stream",
     "text": [
      "2\n",
      "prepbytes\n",
      "ytsrppeeb\n",
      "algorithm\n",
      "tromlihga\n"
     ]
    }
   ],
   "source": [
    "def string_to_list(string):\n",
    "  return [ord(x) for x in string]\n",
    "\n",
    "def list_to_string(str_list):\n",
    "  string = \"\"\n",
    "  for x in str_list:\n",
    "    string += chr(x)\n",
    "  return string\n",
    "\n",
    "def b_sort(chr_list):\n",
    "  for i in range(len(chr_list)):\n",
    "    for j in range(i+1,len(chr_list)):\n",
    "      if chr_list[i] < chr_list[j]:\n",
    "        temp = chr_list[i]\n",
    "        chr_list[i] = chr_list[j]\n",
    "        chr_list[j] = temp\n",
    "  return chr_list\n",
    "  \n",
    "def main():\n",
    "  for _ in range(int(input())):\n",
    "    inp_str = input()\n",
    "    str_list = string_to_list(inp_str)\n",
    "    sorted_list = b_sort(str_list)\n",
    "    string = list_to_string(sorted_list)\n",
    "    print(string)\n",
    "    \n",
    "main()"
   ]
  },
  {
   "cell_type": "code",
   "execution_count": null,
   "metadata": {},
   "outputs": [],
   "source": [
    "def str_to_list(string):\n",
    "  return [x for x in string]\n",
    "  \n",
    "def list_to_str(str_list):\n",
    "  string = \"\"\n",
    "  for s in str_list:\n",
    "    string += s\n",
    "  \n",
    "  return string\n",
    "\n",
    "def reverse_list(l):\n",
    "  revrse_list = l\n",
    "  low = 0\n",
    "  high = len(revrse_list)-1\n",
    "  while low < high:\n",
    "    temp = revrse_list[low]\n",
    "    revrse_list[low] = revrse_list[high]\n",
    "    revrse_list[high] = temp\n",
    "    low += 1\n",
    "    high -= 1\n",
    "  \n",
    "  return revrse_list\n",
    "  \n",
    "def rotate_string(string):\n",
    "  str_list = str_to_list(string)\n",
    "  first_two = str_list[:len(string)-2]\n",
    "  last = str_list[len(string)-2:]\n",
    "  print(first_two)\n",
    "  print(last)\n",
    "  rev_first = reverse_list(first_two)\n",
    "  rev_last = reverse_list(last)\n",
    "  str_list = rev_first + rev_last\n",
    "  str_list = reverse_list(str_list)\n",
    "  string = list_to_str(str_list)\n",
    "  return string\n",
    "  \n",
    "def main():\n",
    "  for _ in range(int(input())):\n",
    "    string = input()\n",
    "    check = input()\n",
    "    if(len(string) != len(check)):\n",
    "      print(\"No\")\n",
    "    else:\n",
    "      if check == rotate_string(string):\n",
    "        print(\"Yes\")\n",
    "      else:\n",
    "        print(\"No\")\n",
    "      \n",
    "\n",
    "main()"
   ]
  },
  {
   "cell_type": "code",
   "execution_count": null,
   "metadata": {},
   "outputs": [],
   "source": [
    "def str_to_list(string):\n",
    "  return [x for x in string]\n",
    "  \n",
    "def list_to_str(str_list):\n",
    "  string = \"\"\n",
    "  for s in str_list:\n",
    "    string += s\n",
    "  \n",
    "  return string\n",
    "\n",
    "def reverse_list(l):\n",
    "  revrse_list = l\n",
    "  low = 0\n",
    "  high = len(revrse_list)-1\n",
    "  while low < high:\n",
    "    temp = revrse_list[low]\n",
    "    revrse_list[low] = revrse_list[high]\n",
    "    revrse_list[high] = temp\n",
    "    low += 1\n",
    "    high -= 1\n",
    "  \n",
    "  return revrse_list\n",
    "  \n",
    "def rotate_string(string,check):\n",
    "  str_list = str_to_list(string)\n",
    "  first_two = str_list[:len(string)-2]\n",
    "  last = str_list[len(string)-2:]\n",
    "  acfirst_two = str_list[:2]\n",
    "  aclast = str_list[2:]\n",
    "  rev_first = reverse_list(first_two)\n",
    "  rev_last = reverse_list(last)\n",
    "  str_list = rev_first + rev_last\n",
    "  str_list = reverse_list(str_list)\n",
    "  cstring = list_to_str(str_list)\n",
    "  rev_first = reverse_list(acfirst_two)\n",
    "  rev_last = reverse_list(aclast)\n",
    "  str_list = rev_first + rev_last\n",
    "  str_list = reverse_list(str_list)\n",
    "  acstring = list_to_str(str_list)\n",
    "  if cstring == check or acstring == check:\n",
    "    return True\n",
    "  else:\n",
    "    return False\n",
    "  \n",
    "def main():\n",
    "  for _ in range(int(input())):\n",
    "    string = input().rstrip()\n",
    "    check = input().rstrip()\n",
    "    if  rotate_string(string,check):\n",
    "      print(\"Yes\")\n",
    "    else:\n",
    "      print(\"No\")\n",
    "      \n",
    "\n",
    "main()\n",
    "    "
   ]
  },
  {
   "cell_type": "code",
   "execution_count": 5,
   "metadata": {},
   "outputs": [
    {
     "ename": "ValueError",
     "evalue": "dictionary update sequence element #0 has length 1; 2 is required",
     "output_type": "error",
     "traceback": [
      "\u001b[1;31m---------------------------------------------------------------------------\u001b[0m",
      "\u001b[1;31mValueError\u001b[0m                                Traceback (most recent call last)",
      "\u001b[1;32m<ipython-input-5-109486a96616>\u001b[0m in \u001b[0;36m<module>\u001b[1;34m\u001b[0m\n\u001b[0;32m      1\u001b[0m \u001b[0ms\u001b[0m \u001b[1;33m=\u001b[0m \u001b[1;34m\"dsadasda\"\u001b[0m\u001b[1;33m\u001b[0m\u001b[1;33m\u001b[0m\u001b[0m\n\u001b[1;32m----> 2\u001b[1;33m \u001b[0mprint\u001b[0m\u001b[1;33m(\u001b[0m\u001b[0mdict\u001b[0m\u001b[1;33m(\u001b[0m\u001b[0mset\u001b[0m\u001b[1;33m(\u001b[0m\u001b[0ms\u001b[0m\u001b[1;33m)\u001b[0m\u001b[1;33m)\u001b[0m\u001b[1;33m)\u001b[0m\u001b[1;33m\u001b[0m\u001b[1;33m\u001b[0m\u001b[0m\n\u001b[0m",
      "\u001b[1;31mValueError\u001b[0m: dictionary update sequence element #0 has length 1; 2 is required"
     ]
    }
   ],
   "source": [
    "s = \"dsadasda\"\n",
    "print(dict(set(s)))"
   ]
  },
  {
   "cell_type": "code",
   "execution_count": 3,
   "metadata": {},
   "outputs": [
    {
     "name": "stdout",
     "output_type": "stream",
     "text": [
      "1\n",
      "5\n",
      "4 3 5 2 1\n",
      "[0, 2]\n"
     ]
    }
   ],
   "source": [
    "def rent_check(rents,n):\n",
    "    i = 0\n",
    "    prev_big = False\n",
    "    greater_rents = []\n",
    "    while i < n:\n",
    "        if i == 0:\n",
    "            if rents[i] > rents[i+1]:\n",
    "                greater_rents.append(i)\n",
    "                prev_big = True\n",
    "        else:\n",
    "            if i == n-1:\n",
    "                if rents[i-2] < rents[i]:\n",
    "                    greater_rents.append(i)\n",
    "                    prev_big = True\n",
    "                else:\n",
    "                    prev_big = False\n",
    "            else:\n",
    "                if prev_big and i != n-1:\n",
    "                    if rents[i] > rents[i+1]:\n",
    "                        prev_big = True\n",
    "                    else:\n",
    "                        prev_big = False\n",
    "                else:\n",
    "                    if rents[i] > rents[i+1]:\n",
    "                        greater_rents.append(i)\n",
    "                        prev_big = True\n",
    "                    else:\n",
    "                        prev_big = False\n",
    "\n",
    "        i += 1\n",
    "\n",
    "    print(greater_rents)\n",
    "        \n",
    "def main():\n",
    "    for _ in range(int(input())):\n",
    "        n = int(input())\n",
    "        rents = [int(x) for x in input().split()]\n",
    "\n",
    "        rent_check(rents,n)\n",
    "    \n",
    "main()"
   ]
  },
  {
   "cell_type": "code",
   "execution_count": 5,
   "metadata": {},
   "outputs": [
    {
     "data": {
      "text/plain": [
       "'1 '"
      ]
     },
     "execution_count": 5,
     "metadata": {},
     "output_type": "execute_result"
    }
   ],
   "source": [
    "str(1)+\" \""
   ]
  },
  {
   "cell_type": "code",
   "execution_count": 10,
   "metadata": {},
   "outputs": [
    {
     "name": "stdout",
     "output_type": "stream",
     "text": [
      "1\n",
      "5\n",
      "4 3 5 2 1\n",
      "0\n",
      "1\n",
      "2\n",
      "3\n",
      "1 \n"
     ]
    }
   ],
   "source": [
    "def rent_check(arr,n):\n",
    "    greater_rents = \"\"\n",
    "    for i in range(0, n):\n",
    "        print(i)\n",
    "        if i == n-1:\n",
    "            if (arr[i] < arr[i - 1]):\n",
    "                greater_rents += (str(i) + \" \")\n",
    "        else:\n",
    "            if (arr[i] < arr[i - 1] and \n",
    "                arr[i] < arr[i + 1]): \n",
    "                greater_rents += (str(i) + \" \")\n",
    "    if len(greater_rents) == 0:\n",
    "      print('-1')\n",
    "    else:\n",
    "      print(greater_rents)\n",
    "        \n",
    "def main():\n",
    "    for _ in range(int(input())):\n",
    "        n = int(input())\n",
    "        rents = [int(x) for x in input().split()]\n",
    "\n",
    "        rent_check(rents,n)\n",
    "    \n",
    "main()"
   ]
  },
  {
   "cell_type": "code",
   "execution_count": null,
   "metadata": {},
   "outputs": [],
   "source": []
  }
 ],
 "metadata": {
  "kernelspec": {
   "display_name": "Python 3",
   "language": "python",
   "name": "python3"
  },
  "language_info": {
   "codemirror_mode": {
    "name": "ipython",
    "version": 3
   },
   "file_extension": ".py",
   "mimetype": "text/x-python",
   "name": "python",
   "nbconvert_exporter": "python",
   "pygments_lexer": "ipython3",
   "version": "3.7.7"
  }
 },
 "nbformat": 4,
 "nbformat_minor": 4
}
