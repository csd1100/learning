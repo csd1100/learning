{
 "cells": [
  {
   "cell_type": "raw",
   "metadata": {},
   "source": [
    "    * \n",
    "   * * \n",
    "  * * * \n",
    " * * * * \n",
    "* * * * *"
   ]
  },
  {
   "cell_type": "code",
   "execution_count": 121,
   "metadata": {},
   "outputs": [
    {
     "name": "stdout",
     "output_type": "stream",
     "text": [
      "     \n",
      "     *\n",
      "    * *\n",
      "   * * *\n",
      "  * * * *\n",
      " * * * * *\n"
     ]
    }
   ],
   "source": [
    "for i in range(1,7):\n",
    "    for j in range (1,7-i):\n",
    "        print(\" \",end=\"\")\n",
    "    for k in range(1,i):\n",
    "        print(\" *\",end=\"\")\n",
    "    print()"
   ]
  },
  {
   "cell_type": "raw",
   "metadata": {},
   "source": [
    "            \n",
    "          * \n",
    "        * * * \n",
    "      * * * * * \n",
    "    * * * * * * * \n",
    "  * * * * * * * * * "
   ]
  },
  {
   "cell_type": "code",
   "execution_count": 123,
   "metadata": {
    "scrolled": true
   },
   "outputs": [
    {
     "name": "stdout",
     "output_type": "stream",
     "text": [
      "            \n",
      "          * \n",
      "        * * * \n",
      "      * * * * * \n",
      "    * * * * * * * \n",
      "  * * * * * * * * * \n"
     ]
    }
   ],
   "source": [
    "for i in range(0,6):\n",
    "    for j in range(i,6):\n",
    "        print(\" \",end=\" \")\n",
    "    k = 1\n",
    "    while k < (2*i):\n",
    "        print(\"*\",end=\" \")\n",
    "        k+=1\n",
    "    print()"
   ]
  },
  {
   "cell_type": "raw",
   "metadata": {},
   "source": [
    "*\n",
    "* *\n",
    "* * *\n",
    "* * * *\n",
    "* * * * *"
   ]
  },
  {
   "cell_type": "code",
   "execution_count": 2,
   "metadata": {},
   "outputs": [
    {
     "name": "stdout",
     "output_type": "stream",
     "text": [
      "\n",
      "\n",
      "* \n",
      "\n",
      "* * \n",
      "\n",
      "* * * \n",
      "\n",
      "* * * * \n",
      "\n",
      "* * * * * \n",
      "\n"
     ]
    }
   ],
   "source": [
    "for i in range(1,7):\n",
    "    for j in range(1,i):\n",
    "        print(\"*\",end=\" \")\n",
    "    print(\"\\n\")"
   ]
  },
  {
   "cell_type": "raw",
   "metadata": {},
   "source": [
    "           * \n",
    "         * * \n",
    "       * * * \n",
    "     * * * * \n",
    "   * * * * * "
   ]
  },
  {
   "cell_type": "code",
   "execution_count": 3,
   "metadata": {},
   "outputs": [
    {
     "name": "stdout",
     "output_type": "stream",
     "text": [
      "          * \n",
      "\n",
      "        * * \n",
      "\n",
      "      * * * \n",
      "\n",
      "    * * * * \n",
      "\n",
      "  * * * * * \n",
      "\n",
      "* * * * * * \n",
      "\n"
     ]
    }
   ],
   "source": [
    "for i in range(1,7):\n",
    "    for j in range(1,7):\n",
    "        if(j >= 7-i):\n",
    "            print(\"*\",end=\" \")\n",
    "        else:\n",
    "            print(\" \",end=\" \")\n",
    "    print(\"\\n\")"
   ]
  },
  {
   "cell_type": "raw",
   "metadata": {},
   "source": []
  },
  {
   "cell_type": "raw",
   "metadata": {},
   "source": [
    "* * * * * \n",
    "* * * * \n",
    "* * * \n",
    "* * \n",
    "* "
   ]
  },
  {
   "cell_type": "code",
   "execution_count": 5,
   "metadata": {},
   "outputs": [
    {
     "name": "stdout",
     "output_type": "stream",
     "text": [
      "* * * * * * \n",
      "* * * * * \n",
      "* * * * \n",
      "* * * \n",
      "* * \n",
      "* \n"
     ]
    }
   ],
   "source": [
    "for i in range(1,7):\n",
    "    for j in reversed(range(i,7)):\n",
    "        print(\"*\",end=\" \")\n",
    "    print()"
   ]
  },
  {
   "cell_type": "raw",
   "metadata": {},
   "source": [
    "* * * * * * \n",
    "  * * * * * \n",
    "    * * * * \n",
    "      * * * \n",
    "        * * \n",
    "          *"
   ]
  },
  {
   "cell_type": "code",
   "execution_count": 1,
   "metadata": {},
   "outputs": [
    {
     "name": "stdout",
     "output_type": "stream",
     "text": [
      "* * * * * * \n",
      "\n",
      "  * * * * * \n",
      "\n",
      "    * * * * \n",
      "\n",
      "      * * * \n",
      "\n",
      "        * * \n",
      "\n",
      "          * \n",
      "\n"
     ]
    }
   ],
   "source": [
    "for i in range(1,7):\n",
    "    for j in range(1,7):\n",
    "        if(j >= i):\n",
    "            print(\"*\",end=\" \")\n",
    "        else:\n",
    "            print(\" \",end=\" \")\n",
    "    print(\"\\n\")"
   ]
  },
  {
   "cell_type": "raw",
   "metadata": {},
   "source": [
    " * * * * * \n",
    "  * * * * \n",
    "   * * * \n",
    "    * * \n",
    "     * "
   ]
  },
  {
   "cell_type": "code",
   "execution_count": 17,
   "metadata": {},
   "outputs": [
    {
     "name": "stdout",
     "output_type": "stream",
     "text": [
      " * * * * * \n",
      "  * * * * \n",
      "   * * * \n",
      "    * * \n",
      "     * \n",
      "      \n"
     ]
    }
   ],
   "source": [
    "for i in reversed(range(1,7)):\n",
    "    for j in range(7-i):\n",
    "        print(\" \",end=\"\")\n",
    "    for k in range(1,i):\n",
    "        print(\"* \",end=\"\")\n",
    "    print()\n",
    "    "
   ]
  },
  {
   "cell_type": "raw",
   "metadata": {},
   "source": [
    "* * * * * \n",
    " * * * * \n",
    "  * * * \n",
    "   * * \n",
    "    * \n",
    "    * \n",
    "   * * \n",
    "  * * * \n",
    " * * * * \n",
    "* * * * * "
   ]
  },
  {
   "cell_type": "code",
   "execution_count": 54,
   "metadata": {},
   "outputs": [
    {
     "name": "stdout",
     "output_type": "stream",
     "text": [
      " * * * * * \n",
      "  * * * * \n",
      "   * * * \n",
      "    * * \n",
      "     * \n",
      "     * \n",
      "    * * \n",
      "   * * * \n",
      "  * * * * \n",
      " * * * * * \n"
     ]
    }
   ],
   "source": [
    "for i in reversed(range(0,6)):\n",
    "    if i == 0:\n",
    "        break\n",
    "    for j in range(6-i):\n",
    "        print(\" \",end=\"\")\n",
    "    for k in range(0,i):\n",
    "        print(\"* \",end=\"\")\n",
    "    print()\n",
    "for i in (range(1,6)):\n",
    "    for j in range(6-i):\n",
    "        print(\" \",end=\"\")\n",
    "    for k in range(0,i):\n",
    "        print(\"* \",end=\"\")\n",
    "    print()"
   ]
  },
  {
   "cell_type": "raw",
   "metadata": {},
   "source": []
  },
  {
   "cell_type": "raw",
   "metadata": {},
   "source": [
    "*********\n",
    " *     *\n",
    "  *   *\n",
    "   * *\n",
    "    *"
   ]
  },
  {
   "cell_type": "code",
   "execution_count": 118,
   "metadata": {},
   "outputs": [
    {
     "name": "stdout",
     "output_type": "stream",
     "text": [
      "***********\n",
      " *       *\n",
      "  *     *\n",
      "   *   *\n",
      "     *\n",
      "\n"
     ]
    }
   ],
   "source": [
    "n = 5\n",
    "for i in range(0,n):\n",
    "    for j in range(0,i):\n",
    "        print(\" \",end=\"\")\n",
    "    for k in range(0,n*2+1):\n",
    "        if i == n-1:\n",
    "                print(f\" *\")\n",
    "                break\n",
    "        if (i==0):\n",
    "            print(\"*\",end=\"\")\n",
    "        elif (i!=0):\n",
    "            if k == i or k == (2*n)-i:\n",
    "                print(f\"*\",end=\"\")\n",
    "            elif k < 2*n-i and k > i:\n",
    "                print(\" \",end=\"\")\n",
    "            \n",
    "    print()"
   ]
  },
  {
   "cell_type": "raw",
   "metadata": {},
   "source": [
    "1 \n",
    "1 2 \n",
    "1 2 3 \n",
    "1 2 3 4 \n",
    "1 2 3 4 5"
   ]
  },
  {
   "cell_type": "code",
   "execution_count": 16,
   "metadata": {},
   "outputs": [
    {
     "name": "stdout",
     "output_type": "stream",
     "text": [
      "\n",
      "1 \n",
      "1 2 \n",
      "1 2 3 \n",
      "1 2 3 4 \n",
      "1 2 3 4 5 \n"
     ]
    }
   ],
   "source": [
    "for i in range(1,7):\n",
    "    for j in range(1,i):\n",
    "        print(j,end=\" \")\n",
    "    print()"
   ]
  },
  {
   "cell_type": "raw",
   "metadata": {},
   "source": [
    "1 \n",
    "2 2 \n",
    "3 3 3 \n",
    "4 4 4 4 \n",
    "5 5 5 5 5"
   ]
  },
  {
   "cell_type": "code",
   "execution_count": 10,
   "metadata": {},
   "outputs": [
    {
     "name": "stdout",
     "output_type": "stream",
     "text": [
      "1 \n",
      "2 2 \n",
      "3 3 3 \n",
      "4 4 4 4 \n",
      "5 5 5 5 5 \n"
     ]
    }
   ],
   "source": [
    "for i in range(1,6):\n",
    "    for j in range(0,i):\n",
    "        print(i,end=\" \")\n",
    "    print()"
   ]
  },
  {
   "cell_type": "raw",
   "metadata": {},
   "source": [
    "             1\n",
    "           1   1\n",
    "         1   2   1\n",
    "       1   3   3   1\n",
    "     1   4   6   4   1"
   ]
  },
  {
   "cell_type": "raw",
   "metadata": {},
   "source": [
    "\n",
    " "
   ]
  },
  {
   "cell_type": "raw",
   "metadata": {},
   "source": [
    "1\n",
    "10\n",
    "101\n",
    "1010\n",
    "10101\n",
    " "
   ]
  },
  {
   "cell_type": "code",
   "execution_count": 14,
   "metadata": {},
   "outputs": [
    {
     "name": "stdout",
     "output_type": "stream",
     "text": [
      "1 \n",
      "1 0 \n",
      "1 0 1 \n",
      "1 0 1 0 \n",
      "1 0 1 0 1 \n"
     ]
    }
   ],
   "source": [
    "for i in range(1,6):\n",
    "    for j in range(0,i):\n",
    "        if (j%2 == 0):\n",
    "            print(1,end=\" \") \n",
    "        else:\n",
    "            print(0,end=\" \")\n",
    "        \n",
    "    print()"
   ]
  },
  {
   "cell_type": "raw",
   "metadata": {},
   "source": [
    "1 2 3 4 5 \n",
    " 2 3 4 5 \n",
    "  3 4 5 \n",
    "   4 5 \n",
    "    5 \n",
    "   4 5 \n",
    "  3 4 5 \n",
    " 2 3 4 5 \n",
    "1 2 3 4 5"
   ]
  },
  {
   "cell_type": "raw",
   "metadata": {},
   "source": [
    "     A\n",
    "    B B\n",
    "   C   C\n",
    "  D     D\n",
    " E       E\n",
    "F         F\n",
    " E       E\n",
    "  D     D\n",
    "   C   C\n",
    "    B B\n",
    "     A\n",
    " "
   ]
  },
  {
   "cell_type": "raw",
   "metadata": {},
   "source": [
    "    *\n",
    "   ***\n",
    "  *****\n",
    " *******\n",
    "*********\n",
    " *******\n",
    "  *****\n",
    "   ***\n",
    "    *"
   ]
  },
  {
   "cell_type": "raw",
   "metadata": {},
   "source": [
    "   1\n",
    "  212\n",
    " 32123\n",
    "4321234\n",
    " 32123\n",
    "  212\n",
    "   1"
   ]
  },
  {
   "cell_type": "raw",
   "metadata": {},
   "source": [
    "    *\n",
    "   * *\n",
    "  *   *\n",
    " *     *\n",
    "*       *\n",
    " *     *\n",
    "  *   *\n",
    "   * *\n",
    "    *"
   ]
  }
 ],
 "metadata": {
  "kernelspec": {
   "display_name": "Python 3",
   "language": "python",
   "name": "python3"
  },
  "language_info": {
   "codemirror_mode": {
    "name": "ipython",
    "version": 3
   },
   "file_extension": ".py",
   "mimetype": "text/x-python",
   "name": "python",
   "nbconvert_exporter": "python",
   "pygments_lexer": "ipython3",
   "version": "3.7.7"
  }
 },
 "nbformat": 4,
 "nbformat_minor": 4
}
